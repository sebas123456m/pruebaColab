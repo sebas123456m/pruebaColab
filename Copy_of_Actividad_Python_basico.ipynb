{
  "cells": [
    {
      "cell_type": "markdown",
      "metadata": {
        "id": "view-in-github",
        "colab_type": "text"
      },
      "source": [
        "<a href=\"https://colab.research.google.com/github/sebas123456m/pruebaColab/blob/main/Copy_of_Actividad_Python_basico.ipynb\" target=\"_parent\"><img src=\"https://colab.research.google.com/assets/colab-badge.svg\" alt=\"Open In Colab\"/></a>"
      ]
    },
    {
      "cell_type": "markdown",
      "source": [],
      "metadata": {
        "id": "1zCoyD_VmtcF"
      },
      "id": "1zCoyD_VmtcF"
    },
    {
      "cell_type": "code",
      "source": [],
      "metadata": {
        "id": "AgJzD-TtnGUw"
      },
      "id": "AgJzD-TtnGUw",
      "execution_count": null,
      "outputs": []
    },
    {
      "cell_type": "markdown",
      "metadata": {
        "id": "50b1b713"
      },
      "source": [
        "<h1 style=\"text-align:center\">\n",
        "    Actividad de aprendizaje: Python básico\n",
        "</h1>\n",
        "\n",
        "<br>\n",
        "\n",
        "<font color=\"red\">\n",
        "\n",
        "<h3 style=\"text-align:center\">\n",
        "    SEBASTIAN MENDEZ MONTEALEGRE\n",
        "</h3>\n",
        "    \n",
        "<h3 style=\"text-align:center\">\n",
        "    Fecha 3 DE JUNIO DE 2023\n",
        "    PROBANDO OTRA VEZ EN ESTE COMENTARIO PARA TRABAJAR CON GIT Y COLAB\n",
        "\n",
        "    \n",
        "    \n",
        "</h3>\n",
        "\n",
        "<hr>"
      ],
      "id": "50b1b713"
    },
    {
      "cell_type": "code",
      "source": [],
      "metadata": {
        "id": "lfp2_zhSjG-H"
      },
      "id": "lfp2_zhSjG-H",
      "execution_count": null,
      "outputs": []
    },
    {
      "cell_type": "markdown",
      "metadata": {
        "id": "634e2652"
      },
      "source": [
        "## Introducción\n",
        "\n",
        "<font color=\"darkblue\"> Este cuaderno es una plantilla inicial de trabajo, realice una copia en la misma carpeta. Renombre la copia con su nombre, sin tildes ni eñes con el siguiente formato \"**Apellido1_Apellido2_Nombre1_Nombre2.ipynb**\" (Ejemplo: \"**Ibanez_Forero_Luis_Eduardo.ipynb**\") para trabajar sobre él.\n",
        " \n",
        "- Cuando termine de resolver el proyecto, ejecutelo todo (**NO LE DEBE APARECER NINGUN ERROR**), despues descargue el proyecto en formato html, abralo y guadelo en formato pdf.\n",
        "- Mis explicaciones van en azul y estas no deben ser modificadas, tampoco deben ser modificadas por ninguna razón las celdas donde diga \"**Prueba de funcionamiento**\". Su trabajo consiste en plantear las celdas necesarias, ya sean en formato *code* o formato *markdown* que le permita resolver el proyecto. \n",
        "</font>  "
      ],
      "id": "634e2652"
    },
    {
      "cell_type": "code",
      "execution_count": null,
      "metadata": {
        "id": "98059087"
      },
      "outputs": [],
      "source": [
        "################################################################################################################\n",
        "################################################################################################################\n",
        "# Espacio para las librerías que va a necesitar\n",
        "# Ejemplo: import numpy as np\n",
        "################################################################################################################\n",
        "################################################################################################################\n",
        "\n",
        "\n",
        "\n",
        "\n",
        "\n",
        "\n",
        "\n"
      ],
      "id": "98059087"
    },
    {
      "cell_type": "markdown",
      "metadata": {
        "id": "c2e04145"
      },
      "source": [
        "<font color=\"darkblue\"> Ejercicio 1: Crear una variable llamada `a` que contenga el texto \"**De aquel amor. De música ligera. Nada nos libra.**\". Crear otra variable llamada `b` que contenga el texto \"**Nada más queda**\". Crear una tercera variable llamada `c` donde solo se tome el texto \"**Nada más** \" de `b`. Crear una cuarta variable llamada `d` donde repita el texto guardado en `b` cuatro veces. Por último, crear una variable llamada `e` que una todo el texto de la siguiente forma.\n",
        "</font>   \n",
        "\n",
        "\"De aquel amor. De música ligera. Nada nos libra. Nada más queda. Nada más Nada más queda. Nada más queda. Nada más queda. Nada más queda. \"\n",
        "\n",
        "\n"
      ],
      "id": "c2e04145"
    },
    {
      "cell_type": "code",
      "execution_count": null,
      "metadata": {
        "colab": {
          "base_uri": "https://localhost:8080/"
        },
        "id": "95b5fe4d",
        "outputId": "6ae76bbc-bbfc-47a1-9c32-ff147908bc05"
      },
      "outputs": [
        {
          "output_type": "stream",
          "name": "stdout",
          "text": [
            "9\n",
            "De aquel amor. De música ligera. Nada nos libra. Nada más queda  Nada más Nada más queda  Nada más queda  Nada más queda  Nada más queda  \n"
          ]
        }
      ],
      "source": [
        "################################################################################################################\n",
        "## Este espacio debe ser llenado por el estudiante.\n",
        "################################################################################################################\n",
        "\n",
        "a=\"De aquel amor. De música ligera. Nada nos libra. \"\n",
        "\n",
        "\n",
        "b=\"Nada más queda  \"\n",
        "c=\"Nada más \"\n",
        "tamanoc= len(c)\n",
        "print (tamanoc)\n",
        "d=b*4\n",
        "e=(a+b+c+d)\n",
        "print(e)\n"
      ],
      "id": "95b5fe4d"
    },
    {
      "cell_type": "code",
      "execution_count": null,
      "metadata": {
        "colab": {
          "base_uri": "https://localhost:8080/"
        },
        "id": "36cfc91a",
        "outputId": "2ab8ccf2-1b92-420d-8992-a5280680b9eb"
      },
      "outputs": [
        {
          "output_type": "stream",
          "name": "stdout",
          "text": [
            "¡¡¡Felicidades!!! Tu nota hasta este momento es 1 de 5\n"
          ]
        }
      ],
      "source": [
        "################################################################################################################\n",
        "## Prueba de funcionamiento\n",
        "## Esta celda no debe ser modificada\n",
        "################################################################################################################\n",
        "import numpy as np\n",
        "p11=isinstance(a, str) & (len(a)==49)\n",
        "p12=isinstance(b, str) & (len(b)==16) \n",
        "p13=isinstance(c, str) & (len(c)==9)\n",
        "p14=isinstance(d, str) & (len(d)==64)\n",
        "p15=isinstance(e, str) & (len(e)==138)\n",
        "#p1=p11 & p12 & p13 & p14 & p15\n",
        "p1=p11 & p12 & p13 & p14 & p15\n",
        "if p1==True:\n",
        "  n1=1\n",
        "else:\n",
        "  n1=0\n",
        "\n",
        "print(f\"¡¡¡Felicidades!!! Tu nota hasta este momento es {n1} de 5\" if p1==True else f\"Hay un error, vuelve a revisar tu codigo. Tu nota hasta este momento es {n1} de 5\" )\n",
        "################################################################################################################\n",
        "## Prueba de funcionamiento\n",
        "## Esta celda no debe ser modificada\n",
        "################################################################################################################"
      ],
      "id": "36cfc91a"
    },
    {
      "cell_type": "markdown",
      "metadata": {
        "id": "4a2897c7"
      },
      "source": [
        "<font color=\"darkblue\"> 2) Crear un vector llamado $v=[789,796,\\dots,922]$ que empiece en 789 y contenga los múltiplos de 7 usando la función `arange()` de la librería numpy. Después crear una matriz $A$ de tamaño $(4\\times 5)$ usando la función `reshape()` de la librería numpy. Calcular la transpuesta de la matriz $A$ usando el comando $A.T$ y guardar el resultado en una variable llamada $B$. Por último, realizar el producto matricial de $A$ y $B$ usando el operador `@`.\n",
        "</font>  \n"
      ],
      "id": "4a2897c7"
    },
    {
      "cell_type": "code",
      "execution_count": null,
      "metadata": {
        "id": "53399dea",
        "colab": {
          "base_uri": "https://localhost:8080/"
        },
        "outputId": "cdf17731-db92-4f4b-c663-c733c50f94c0"
      },
      "outputs": [
        {
          "output_type": "stream",
          "name": "stdout",
          "text": [
            "[789 796 803 810 817 824 831 838 845 852 859 866 873 880 887 894 901 908\n",
            " 915 922]\n",
            "20\n",
            "A\n",
            "*****\n",
            "[[789 796 803 810 817]\n",
            " [824 831 838 845 852]\n",
            " [859 866 873 880 887]\n",
            " [894 901 908 915 922]]\n",
            "*******\n",
            "Transpuesta\n",
            "[[789 824 859 894]\n",
            " [796 831 866 901]\n",
            " [803 838 873 908]\n",
            " [810 845 880 915]\n",
            " [817 852 887 922]]\n",
            "******\n",
            "El producto de la matriz es: \n",
            "[[3224535 3365060 3505585 3646110]\n",
            " [3365060 3511710 3658360 3805010]\n",
            " [3505585 3658360 3811135 3963910]\n",
            " [3646110 3805010 3963910 4122810]]\n"
          ]
        }
      ],
      "source": [
        "from sys import version_info\n",
        "################################################################################################################\n",
        "## Este espacio debe ser llenado por el estudiante.\n",
        "################################################################################################################\n",
        "\n",
        "v = np.arange(789, 929, 7) # parametros numpy.arange([start, ]stop, [step, ], dtype=None)\n",
        "\"\"\"\n",
        "La función arange() devuelve un array NumPy que contiene los números en el rango especificado. Por ejemplo, np.arange(0, 5) devolverá el array [0, 1, 2, 3, 4], mientras que np.arange(1, 10, 2) devolverá el array [1, 3, 5, 7, 9].\n",
        "\n",
        "La función arange() es muy útil para crear arrays de números en secuencia para usar en cálculos matemáticos y científicos.\n",
        "\"\"\"\n",
        "print(v)\n",
        "print(len(v))\n",
        "print(\"A\")\n",
        "print(\"*****\")\n",
        "A=np.reshape(v,(4,5))\n",
        "\"\"\"\n",
        "La función reshape() de la librería NumPy se utiliza para cambiar la forma (o dimensiones) de un array NumPy existente, sin modificar sus elementos.\n",
        "La sintaxis básica de la función reshape() es la siguiente:\n",
        "new_array = np.reshape(original_array, new_shape)\n",
        "DONDE:\n",
        "original_array es el array que deseas modificar\n",
        "new_shape es una tupla que especifica la nueva forma que deseas para el array\n",
        "EJEMPLO: new_array = np.reshape(original_array, (3, 4))\n",
        "\"\"\"\n",
        "print(A)\n",
        "B= A.T\n",
        "print(\"*******\")\n",
        "print(\"Transpuesta\")\n",
        "print(B)\n",
        "C=A @ B\n",
        "print(\"******\")\n",
        "print(\"El producto de la matriz es: \")  \n",
        "print(C)"
      ],
      "id": "53399dea"
    },
    {
      "cell_type": "code",
      "execution_count": null,
      "metadata": {
        "id": "da2a5620",
        "colab": {
          "base_uri": "https://localhost:8080/"
        },
        "outputId": "1e83327d-5264-4a0f-db8a-d0c618bfad2f"
      },
      "outputs": [
        {
          "output_type": "stream",
          "name": "stdout",
          "text": [
            "¡¡¡Felicidades!!! Tu nota hasta este momento es 2 de 5\n"
          ]
        }
      ],
      "source": [
        "################################################################################################################\n",
        "## Prueba de funcionamiento\n",
        "## Esta celda no debe ser modificada\n",
        "################################################################################################################\n",
        "\n",
        "p21=isinstance(v,np.ndarray) and v.shape==(20,)\n",
        "p22=isinstance(A,np.ndarray) and A.shape==(4,5)\n",
        "p23=isinstance(B,np.ndarray) and B.shape==(5,4)\n",
        "p24=isinstance(C,np.ndarray) and C.shape==(4,4) and np.linalg.det(C)==0\n",
        "#p2=p21 & p22 & p23 & p24 \n",
        "p2=p21 & p22 & p23 & p24 \n",
        "if p2==True:\n",
        "  n2=1\n",
        "else:\n",
        "  n2=0\n",
        "\n",
        "print(f\"¡¡¡Felicidades!!! Tu nota hasta este momento es {n1+n2} de 5\" if p2==True else f\"Hay un error, vuelve a revisar tu codigo. Tu nota hasta este momento es {n1+n2} de 5\" )\n",
        "################################################################################################################\n",
        "## Prueba de funcionamiento\n",
        "## Esta celda no debe ser modificada\n",
        "################################################################################################################"
      ],
      "id": "da2a5620"
    },
    {
      "cell_type": "markdown",
      "metadata": {
        "id": "2ede37da"
      },
      "source": [
        "\n",
        "<font color=\"darkblue\"> \n",
        "3) Crear una lista llamada **meses_mayuscula** donde convierta todos los elementos de la lista **meses** usando la función `upper()` por medio del código `[mes.upper() for mes in meses]`. Crear una variable llamada **filtro_bre** donde se aplique un filtro sobre la variable **meses_mayusculas** usando la función `filter()` y `lambda`, tal que se filtren los meses que contengan el término \"BRE\". Después crear una variable llamada **filtro_ju** donde se aplique un filtro sobre la variable **meses_mayusculas** usando la función `filter()` y `lambda`, tal que se filtren los meses que contengan el término \"JU\". Por último, crear una variable llamada **lista_bre_ju** donde se unan las listas **lista_bre** y **lista_ju**.\n",
        "</font>  \n",
        "    \n"
      ],
      "id": "2ede37da"
    },
    {
      "cell_type": "code",
      "execution_count": null,
      "metadata": {
        "id": "62f0ebf9",
        "colab": {
          "base_uri": "https://localhost:8080/"
        },
        "outputId": "83ed2eda-84a5-40b0-9216-71bd21814bfd"
      },
      "outputs": [
        {
          "output_type": "stream",
          "name": "stdout",
          "text": [
            "['ENERO', 'FEBRERO', 'MARZO', 'ABRIL', 'MAYO', 'JUNIO', 'JULIO', 'AGOSTO', 'SEPTIEMBRE', 'OCTUBRE', 'NOVIEMBRE', 'DICIEMBRE']\n",
            "Filtro bre\n",
            "['FEBRERO', 'SEPTIEMBRE', 'OCTUBRE', 'NOVIEMBRE', 'DICIEMBRE']\n",
            "=========\n",
            "Filtro ju\n",
            "['JUNIO', 'JULIO']\n",
            "=========\n",
            "Filtro ju + bre\n",
            "['FEBRERO', 'SEPTIEMBRE', 'OCTUBRE', 'NOVIEMBRE', 'DICIEMBRE', 'JUNIO', 'JULIO']\n"
          ]
        }
      ],
      "source": [
        "################################################################################################################\n",
        "## Este espacio debe ser llenado por el estudiante.\n",
        "################################################################################################################\n",
        "\n",
        "meses=['enero','febrero','marzo','abril','mayo','junio','julio','agosto','septiembre','octubre','noviembre','diciembre']\n",
        "meses_mayusculas=[mes.upper() for mes in meses]\n",
        "print(meses_mayusculas)\n",
        "\"\"\"\n",
        "Sintaxis filter\n",
        "nueva_secuencia = filter(función_de_filtro, secuencia)\n",
        "\n",
        "\"\"\"\n",
        "filtro_bre=filter(lambda x:\"BRE\" in x ,meses_mayusculas)\n",
        "lista_bre=list(filtro_bre)\n",
        "print(\"Filtro bre\")\n",
        "print(lista_bre)\n",
        "print(\"=========\")\n",
        "filtro_ju=filter(lambda x:\"JU\" in x,meses_mayusculas)\n",
        "lista_ju=list(filtro_ju)\n",
        "print(\"Filtro ju\")\n",
        "print(lista_ju)\n",
        "print(\"=========\")\n",
        "print(\"Filtro ju + bre\")\n",
        "lista_bre_ju=lista_bre+lista_ju\n",
        "\n",
        "print(lista_bre_ju)\n",
        "\n"
      ],
      "id": "62f0ebf9"
    },
    {
      "cell_type": "code",
      "execution_count": null,
      "metadata": {
        "id": "b3acbd74",
        "colab": {
          "base_uri": "https://localhost:8080/"
        },
        "outputId": "fde3533f-4ed0-4edb-cc9a-151631c1f7b2"
      },
      "outputs": [
        {
          "output_type": "stream",
          "name": "stdout",
          "text": [
            "¡¡¡Felicidades!!! Tu nota hasta este momento es 3 de 5\n"
          ]
        }
      ],
      "source": [
        "################################################################################################################\n",
        "## Prueba de funcionamiento\n",
        "## Esta celda no debe ser modificada\n",
        "################################################################################################################\n",
        "\n",
        "p31=set([mes.isupper() for mes in meses_mayusculas])==set([True]*12)\n",
        "p32=len(lista_bre)==5\n",
        "p33=len(lista_ju)==2\n",
        "p34=len(lista_bre_ju)==7\n",
        "\n",
        "#p3=p31 & p32 & p33 & p34  #p33\n",
        "p3=p31 & p32 & p33 & p34 \n",
        "if p3==True:\n",
        "  n3=1\n",
        "else:\n",
        "  n3=0\n",
        "\n",
        "print(f\"¡¡¡Felicidades!!! Tu nota hasta este momento es {n1+n2+n3} de 5\" if p3==True else f\"Hay un error, vuelve a revisar tu codigo. Tu nota hasta este momento es {n1+n2+n3} de 5\" )\n",
        "################################################################################################################\n",
        "## Prueba de funcionamiento\n",
        "## Esta celda no debe ser modificada\n",
        "################################################################################################################"
      ],
      "id": "b3acbd74"
    },
    {
      "cell_type": "markdown",
      "metadata": {
        "id": "850ce878"
      },
      "source": [
        "\n",
        "<font color=\"darkblue\"> \n",
        "4) Se leyó el dataset **movies** de una url. A partir de una transformaciones se obtuvieron dos listas llamadas **cabecera** y **lineas_sin_cabecera**. Así pues, se pide:\n",
        "- Crear una lista vacia llamada **nombre_pelicula**, luego usar el metodo `append()` y el metodo `split()` para seleccionar el nombre de las peliculas, tal y como se muestra en el siguiente ejemplo\n",
        "\n",
        "    \n",
        "    nombre_pelicula=[]\n",
        "    for l in lineas_sin_cabecera:\n",
        "        nombre_pelicula.append(l.split(',')[0])\n",
        "    \n",
        "   \n",
        "<font color=\"darkblue\"> \n",
        "\n",
        "- Crear listas vacias llamadas **anno** y **genero** y repetir el procedimiento anterior, seleccionando las variables **year** y **genre** respectivamente del dataset.\n",
        "- Crear una lista vacia llamada **recaudacion_mundial** y aplicar el siguiente codigo:\n",
        "</font>  \n",
        "    \n",
        "    \n",
        "    for l in lineas_sin_cabecera:\n",
        "        valor=re.findall(r'\\d{1,3}.\\d{1,2}\\S',l.split(',')[-2])\n",
        "        recaudacion=''.join(valor)\n",
        "        recaudacion_mundial.append(recaudacion)\n",
        "    \n",
        "    i=recaudacion_mundial.index('')\n",
        "    recaudacion_mundial[i]='0'\n",
        "    recaudacion_mundial=[float(x) for x in recaudacion_mundial]"
      ],
      "id": "850ce878"
    },
    {
      "cell_type": "code",
      "execution_count": null,
      "metadata": {
        "id": "9ffa653c",
        "colab": {
          "base_uri": "https://localhost:8080/"
        },
        "outputId": "4cf0925b-55f8-486a-a0e8-3baa642f5324"
      },
      "outputs": [
        {
          "output_type": "stream",
          "name": "stdout",
          "text": [
            "lm,Genre,Lead Studio,Audience score %,Profitability,Rotten Tomatoes %,Worldwide Gross,Year\n",
            "Zack and Miri Make a Porno,Romance,The Weinstein Company,70,1.747541667,64,$41.94 ,2008\n",
            "Youth in Revolt,Comedy,The Weinstein Company,52,1.09,68,$19.62 ,2010\n",
            "You Will Meet a Tall Dark Stranger,Comedy,Independent,35,1.211818182,43,$26.66 ,2010\n",
            "When in Rome,Comedy,Disney,44,0,15,$43.04 ,2010\n",
            "What Happens in Vegas,Comedy,Fox,72,6.267647029,28,$219.37 ,2008\n"
          ]
        }
      ],
      "source": [
        "################################################################################################################\n",
        "## Lectura de datos\n",
        "## Esta celda no debe ser modificada\n",
        "################################################################################################################\n",
        "\n",
        "import urllib.request\n",
        "import re\n",
        "\n",
        "url = 'https://gist.githubusercontent.com/tiangechen/b68782efa49a16edaf07dc2cdaa855ea/raw/0c794a9717f18b094eabab2cd6a6b9a226903577/movies.csv'\n",
        "\n",
        "with urllib.request.urlopen(url) as datos:\n",
        "   lineas=str(datos.readlines()).split('\\\\n')\n",
        "\n",
        "lineas_sin_cabecera=[]\n",
        "for linea in lineas:\n",
        "    if linea==lineas[0]:\n",
        "        cabecera=lineas[0][5:]\n",
        "    else:\n",
        "        if linea==lineas[len(lineas)-1]:\n",
        "            lineas_sin_cabecera.append(linea[5:-1])\n",
        "        else:\n",
        "            lineas_sin_cabecera.append(linea[5:])\n",
        "            \n",
        "print(cabecera)\n",
        "for l in lineas_sin_cabecera[:5]:\n",
        "    print(l)\n",
        "################################################################################################################\n",
        "## Lectura de datos\n",
        "## Esta celda no debe ser modificada\n",
        "################################################################################################################"
      ],
      "id": "9ffa653c"
    },
    {
      "cell_type": "code",
      "execution_count": null,
      "metadata": {
        "id": "45952625",
        "colab": {
          "base_uri": "https://localhost:8080/"
        },
        "outputId": "e6866bd0-d43d-4a2e-cfbd-ac68da1e67e6"
      },
      "outputs": [
        {
          "output_type": "stream",
          "name": "stdout",
          "text": [
            "['Zack and Miri Make a Porno', 'Youth in Revolt', 'You Will Meet a Tall Dark Stranger', 'When in Rome', 'What Happens in Vegas', 'Water For Elephants', 'WALL-E', 'Waitress', 'Waiting For Forever', \"Valentine's Day\", \"Tyler Perry's Why Did I get Married\", 'Twilight: Breaking Dawn', 'Twilight', 'The Ugly Truth', 'The Twilight Saga: New Moon', \"The Time Traveler's Wife\", 'The Proposal', 'The Invention of Lying', 'The Heartbreak Kid', 'The Duchess', 'The Curious Case of Benjamin Button', 'The Back-up Plan', 'Tangled', 'Something Borrowed', \"She's Out of My League\", 'Sex and the City Two', 'Sex and the City 2', 'Sex and the City', 'Remember Me', 'Rachel Getting Married', 'Penelope', 'P.S. I Love You', 'Over Her Dead Body', 'Our Family Wedding', 'One Day', 'Not Easily Broken', 'No Reservations', \"Nick and Norah's Infinite Playlist\", \"New Year's Eve\", 'My Week with Marilyn', 'Music and Lyrics', 'Monte Carlo', 'Miss Pettigrew Lives for a Day', 'Midnight in Paris', 'Marley and Me', 'Mamma Mia!', 'Mamma Mia!', 'Made of Honor', 'Love Happens', 'Love & Other Drugs', 'Life as We Know It', 'License to Wed', 'Letters to Juliet', 'Leap Year', 'Knocked Up', 'Killers', 'Just Wright', 'Jane Eyre', \"It's Complicated\", 'I Love You Phillip Morris', 'High School Musical 3: Senior Year', \"He's Just Not That Into You\", 'Good Luck Chuck', 'Going the Distance', 'Gnomeo and Juliet', 'Gnomeo and Juliet', 'Ghosts of Girlfriends Past', 'Four Christmases', 'Fireproof', 'Enchanted', 'Dear John', 'Beginners', 'Across the Universe', 'A Serious Man', 'A Dangerous Method', '27 Dresses', '(500) Days of Summer']\n",
            "['Romance', 'Comedy', 'Comedy', 'Comedy', 'Comedy', 'Drama', 'Animation', 'Romance', 'Romance', 'Comedy', 'Romance', 'Romance', 'Romance', 'Comedy', 'Drama', 'Drama', 'Comedy', 'Comedy', 'Comedy', 'Drama', 'Fantasy', 'Comedy', 'Animation', 'Romance', 'Comedy', 'Comedy', 'Comedy', 'Comedy', 'Drama', 'Drama', 'Comedy', 'Romance', 'Comedy', 'Comedy', 'Romance', 'Drama', 'Comedy', 'Comedy', 'Romance', 'Drama', 'Romance', 'Romance', 'Comedy', 'Romence', 'Comedy', 'Comedy', 'Comedy', 'Comdy', 'Drama', 'Comedy', 'Comedy', 'Comedy', 'Comedy', 'Comedy', 'Comedy', 'Action', 'Comedy', 'Romance', 'Comedy', 'Comedy', 'Comedy', 'Comedy', 'Comedy', 'Comedy', 'Animation', 'Animation', 'Comedy', 'Comedy', 'Drama', 'Comedy', 'Drama', 'Comedy', 'romance', 'Drama', 'Drama', 'Comedy', 'comedy']\n",
            "['2008', '2010', '2010', '2010', '2008', '2011', '2008', '2007', '2011', '2010', '2007', '2011', '2008', '2009', '2009', '2009', '2009', '2009', '2007', '2008', '2008', '2010', '2010', '2011', '2010', '2010', '2010', '2008', '2010', '2008', '2008', '2007', '2008', '2010', '2011', '2009', '2007', '2008', '2011', '2011', '2007', '2011', '2008', '2011', '2008', '2008', '2008', '2008', '2009', '2010', '2010', '2007', '2010', '2010', '2007', '2010', '2010', '2011', '2009', '2010', '2008', '2009', '2007', '2010', '2011', '2011', '2009', '2008', '2008', '2007', '2010', '2011', '2007', '2009', '2011', '2008', \"2009'\"]\n"
          ]
        }
      ],
      "source": [
        "################################################################################################################\n",
        "## Este espacio debe ser llenado por el estudiante.\n",
        "################################################################################################################\n",
        "nombre_pelicula=[]\n",
        "for l in lineas_sin_cabecera:\n",
        "    nombre_pelicula.append(l.split(',')[0])\n",
        "print(nombre_pelicula)\n",
        "genero=[]\n",
        "for l in  lineas_sin_cabecera:\n",
        "    genero.append(l.split(',')[1])\n",
        "\n",
        "print(genero)\n",
        "anno=[]\n",
        "for l in lineas_sin_cabecera:\n",
        "   anno.append(l.split(',')[7])\n",
        "print(anno)\n",
        "recaudacion_mundial=None\n",
        "\n",
        "recaudacion_mundial=[]\n",
        "for l in lineas_sin_cabecera:\n",
        "    valor=re.findall(r'\\d{1,3}.\\d{1,2}\\S',l.split(',')[-2])\n",
        "    recaudacion=''.join(valor)\n",
        "    recaudacion_mundial.append(recaudacion)\n",
        "\n",
        "i=recaudacion_mundial.index('')\n",
        "recaudacion_mundial[i]='0'\n",
        "recaudacion_mundial=[float(x) for x in recaudacion_mundial]\n"
      ],
      "id": "45952625"
    },
    {
      "cell_type": "code",
      "execution_count": null,
      "metadata": {
        "id": "5b8e69f2",
        "colab": {
          "base_uri": "https://localhost:8080/"
        },
        "outputId": "98b4fd43-9aa0-4b84-d8c3-fab3fd226e69"
      },
      "outputs": [
        {
          "output_type": "stream",
          "name": "stdout",
          "text": [
            "¡¡¡Felicidades!!! Tu nota hasta este momento es 4 de 5\n"
          ]
        }
      ],
      "source": [
        "################################################################################################################\n",
        "## Prueba de funcionamiento\n",
        "## Esta celda no debe ser modificada\n",
        "################################################################################################################\n",
        "\n",
        "import collections\n",
        "\n",
        "p41=set(list(collections.Counter(genero).values()))==set([13, 41, 13, 4, 1, 1, 1, 1, 1, 1])\n",
        "p42=set(list(collections.Counter(anno).values()))==set([20, 20, 14, 11, 11, 1])\n",
        "p43=np.mean(recaudacion_mundial)==142.3733766233766\n",
        "p44=len(nombre_pelicula)==77\n",
        "\n",
        "p4=p41 & p42 & p43 & p44 \n",
        "if p4==True:\n",
        "  n4=1\n",
        "else:\n",
        "  n4=0\n",
        "\n",
        "print(f\"¡¡¡Felicidades!!! Tu nota hasta este momento es {n1+n2+n3+n4} de 5\" if p4==True else f\"Hay un error, vuelve a revisar tu codigo. Tu nota hasta este momento es {n1+n2+n3+n4} de 5\" )\n",
        "\n",
        "################################################################################################################\n",
        "## Prueba de funcionamiento\n",
        "## Esta celda no debe ser modificada\n",
        "################################################################################################################"
      ],
      "id": "5b8e69f2"
    },
    {
      "cell_type": "markdown",
      "metadata": {
        "id": "48f3dae3"
      },
      "source": [
        "\n",
        "<font color=\"darkblue\"> \n",
        "5) Crear una lista llamada **tupla_atributos** donde cada componente de la lista sea una tupla que contenga los elementos de las variables **genero**, **anno** y **recaudacion_mundial**; por ejemplo\n",
        "    \n",
        "    \n",
        "    \n",
        "    [('Romance', '2008', 41.94),\n",
        "    ('Comedy', '2010', 19.62),\n",
        "    ('Comedy', '2010', 26.66),\n",
        "    ('Comedy', '2010', 43.04),\n",
        "    ('Comedy', '2008', 219.37),\n",
        "    ('Drama', '2011', 117.09),\n",
        "    ('Animation', '2008', 521.28),\n",
        "    ('Romance', '2007', 22.18),...]\n",
        "\n",
        "<font color=\"darkblue\"> \n",
        "Crear una variable llamada **diccionario_peliculas** cuyas llaves sean los nombres de las peliculas y sus valores las tuplas de la lista **tupla_atributos**, ejemplo\n",
        "    \n",
        "    {'Zack and Miri Make a Porno': ('Romance', '2008', 41.94),\n",
        "    'Youth in Revolt': ('Comedy', '2010', 19.62),\n",
        "    'You Will Meet a Tall Dark Stranger': ('Comedy', '2010', 26.66),\n",
        "    'When in Rome': ('Comedy', '2010', 43.04),\n",
        "    'What Happens in Vegas': ('Comedy', '2008', 219.37),\n",
        "    'Water For Elephants': ('Drama', '2011', 117.09),\n",
        "    'WALL-E': ('Animation', '2008', 521.28),\n",
        "    'Waitress': ('Romance', '2007', 22.18),\n",
        "    'Waiting For Forever': ('Romance', '2011', 0.03),...}\n",
        "    \n",
        "Por último, crear un DataFrame, llamado **df**, usando la libreria pandas y usando el siguiente codigo\n",
        "</font>  \n",
        "    \n",
        "    import pandas as pd\n",
        "    nom_keys=list(diccionario_peliculas.keys())\n",
        "    df=pd.DataFrame( [ diccionario_peliculas[key] for key in diccionario_peliculas.keys()],index= nom_keys,columns=[['genero','anno','recaudacion(millones_dolares)']]  )"
      ],
      "id": "48f3dae3"
    },
    {
      "cell_type": "code",
      "execution_count": null,
      "metadata": {
        "id": "88c1c2a8",
        "colab": {
          "base_uri": "https://localhost:8080/"
        },
        "outputId": "2515dc55-a508-4e63-b662-f5b605d9a701"
      },
      "outputs": [
        {
          "output_type": "stream",
          "name": "stdout",
          "text": [
            "el numero de filas es:  3\n",
            "el numero de columnas es:  77\n",
            "[['Romance' 'Comedy' 'Comedy' 'Comedy' 'Comedy' 'Drama' 'Animation'\n",
            "  'Romance' 'Romance' 'Comedy' 'Romance' 'Romance' 'Romance' 'Comedy'\n",
            "  'Drama' 'Drama' 'Comedy' 'Comedy' 'Comedy' 'Drama' 'Fantasy' 'Comedy'\n",
            "  'Animation' 'Romance' 'Comedy' 'Comedy' 'Comedy' 'Comedy' 'Drama'\n",
            "  'Drama' 'Comedy' 'Romance' 'Comedy' 'Comedy' 'Romance' 'Drama' 'Comedy'\n",
            "  'Comedy' 'Romance' 'Drama' 'Romance' 'Romance' 'Comedy' 'Romence'\n",
            "  'Comedy' 'Comedy' 'Comedy' 'Comdy' 'Drama' 'Comedy' 'Comedy' 'Comedy'\n",
            "  'Comedy' 'Comedy' 'Comedy' 'Action' 'Comedy' 'Romance' 'Comedy'\n",
            "  'Comedy' 'Comedy' 'Comedy' 'Comedy' 'Comedy' 'Animation' 'Animation'\n",
            "  'Comedy' 'Comedy' 'Drama' 'Comedy' 'Drama' 'Comedy' 'romance' 'Drama'\n",
            "  'Drama' 'Comedy' 'comedy']\n",
            " ['2008' '2010' '2010' '2010' '2008' '2011' '2008' '2007' '2011' '2010'\n",
            "  '2007' '2011' '2008' '2009' '2009' '2009' '2009' '2009' '2007' '2008'\n",
            "  '2008' '2010' '2010' '2011' '2010' '2010' '2010' '2008' '2010' '2008'\n",
            "  '2008' '2007' '2008' '2010' '2011' '2009' '2007' '2008' '2011' '2011'\n",
            "  '2007' '2011' '2008' '2011' '2008' '2008' '2008' '2008' '2009' '2010'\n",
            "  '2010' '2007' '2010' '2010' '2007' '2010' '2010' '2011' '2009' '2010'\n",
            "  '2008' '2009' '2007' '2010' '2011' '2011' '2009' '2008' '2008' '2007'\n",
            "  '2010' '2011' '2007' '2009' '2011' '2008' \"2009'\"]\n",
            " ['41.94' '19.62' '26.66' '43.04' '219.37' '117.09' '521.28' '22.18'\n",
            "  '0.03' '217.57' '55.86' '702.17' '376.66' '205.3' '709.82' '101.33'\n",
            "  '314.7' '32.4' '127.77' '43.31' '285.43' '77.09' '355.01' '60.18'\n",
            "  '48.81' '288.35' '288.35' '415.25' '55.86' '16.61' '20.74' '153.09'\n",
            "  '20.71' '21.37' '55.24' '10.7' '92.6' '33.53' '142.04' '8.26' '145.9'\n",
            "  '39.66' '15.17' '148.66' '206.07' '609.47' '609.47' '105.96' '36.08'\n",
            "  '54.53' '96.16' '69.31' '79.18' '32.59' '0.0' '93.4' '21.57' '30.15'\n",
            "  '224.6' '20.1' '252.04' '178.84' '59.19' '42.05' '193.97' '193.97'\n",
            "  '102.22' '161.83' '33.47' '340.49' '114.97' '14.31' '29.37' '30.68'\n",
            "  '8.97' '160.31' '60.72']]\n",
            "el numero de filas es:  77\n",
            "el numero de columnas es:  3\n"
          ]
        }
      ],
      "source": [
        "################################################################################################################\n",
        "## Este espacio debe ser llenado por el estudiante.\n",
        "################################################################################################################\n",
        "\n",
        "diccionario_peliculas=None\n",
        "\n",
        "tupla_atributos=[genero,anno,recaudacion_mundial]\n",
        "tuplagen=tuple(tupla_atributos[0])\n",
        "tupla_atributos=[tuplagen,anno,recaudacion_mundial]\n",
        "tuplaanno=tuple(tupla_atributos[1])\n",
        "tupla_atributos=[tuplagen,tuplaanno,recaudacion_mundial]\n",
        "tuplamundial=tuple(tupla_atributos[2])\n",
        "tupla_atributos1=[tuplagen,tuplaanno,tuplamundial]\n",
        "tupla_atributos=np.array(tupla_atributos1); # estamos guardando el arreglo que genera numpy en una variable\n",
        "num_filas = tupla_atributos.shape[0] # estamos guardando el numero de filas\n",
        "num_columnas = tupla_atributos.shape[1] # estamos guardando el numero de columnas\n",
        "print(\"el numero de filas es: \",num_filas)\n",
        "print(\"el numero de columnas es: \",num_columnas)\n",
        "print(tupla_atributos)\n",
        "tupla_atributos =tupla_atributos.T\n",
        "num_filas = tupla_atributos.shape[0] # estamos guardando el numero de filas\n",
        "num_columnas = tupla_atributos.shape[1] # estamos guardando el numero de columnas\n",
        "print(\"el numero de filas es: \",num_filas)\n",
        "print(\"el numero de columnas es: \",num_columnas)\n",
        "\"\"\"import pandas as pd\n",
        "nom_keys=list(diccionario_peliculas.keys())\n",
        "df=pd.DataFrame( [ diccionario_peliculas[key] for key in diccionario_peliculas.keys()],index= nom_keys,columns=[['genero','anno','recaudacion(millones_dolares)']]  )\n",
        "\"\"\"\n",
        "df=None\n"
      ],
      "id": "88c1c2a8"
    },
    {
      "cell_type": "code",
      "execution_count": null,
      "metadata": {
        "id": "504182c6",
        "colab": {
          "base_uri": "https://localhost:8080/"
        },
        "outputId": "673b9272-1205-4735-b44f-b78efc039a30"
      },
      "outputs": [
        {
          "output_type": "stream",
          "name": "stdout",
          "text": [
            "Hay un error, vuelve a revisar tu codigo. Tu nota hasta este momento es 4 de 5\n"
          ]
        }
      ],
      "source": [
        "                                                                                     ################################################################################################################\n",
        "## Prueba de funcionamiento\n",
        "## Esta celda no debe ser modificada\n",
        "################################################################################################################\n",
        "\n",
        "p51=np.array(tupla_atributos).shape==(77,3) and type(tupla_atributos)==list and type(tupla_atributos[0])==tuple # cambiando el orden de\n",
        "p52=type(diccionario_peliculas)==dict and set(list(diccionario_peliculas.keys()))==set(nombre_pelicula) and set(list(diccionario_peliculas.values()))==set(tupla_atributos)\n",
        "p53=type(df)==pd.core.frame.DataFrame and df.shape==(75,3) and set(list(df.columns))==set([('genero',), ('anno',), ('recaudacion(millones_dolares)',)])\n",
        "\n",
        "p5=p51 &p52 &p53\n",
        "if p5==True:\n",
        "  n5=1\n",
        "else:\n",
        "  n5=0\n",
        "\n",
        "print(f\"¡¡¡Felicidades!!! Tu nota hasta este momento es {n1+n2+n3+n4+n5} de 5\" if p5==True  else f\"Hay un error, vuelve a revisar tu codigo. Tu nota hasta este momento es {n1+n2+n3+n4+n5} de 5\" )\n",
        "\n",
        "################################################################################################################\n",
        "## Prueba de funcionamiento\n",
        "## Esta celda no debe ser modificada\n",
        "################################################################################################################"
      ],
      "id": "504182c6"
    },
    {
      "cell_type": "markdown",
      "metadata": {
        "id": "220fdd0d"
      },
      "source": [
        "\n",
        "# Comentarios por parte del estudiante\n",
        "### Escriba aqui sus comentarios y conclusiones\n",
        "\n",
        "\n",
        "-\n",
        "\n",
        "-\n",
        "\n",
        "-\n",
        "\n"
      ],
      "id": "220fdd0d"
    }
  ],
  "metadata": {
    "colab": {
      "provenance": [],
      "include_colab_link": true
    },
    "kernelspec": {
      "display_name": "Python 3 (ipykernel)",
      "language": "python",
      "name": "python3"
    },
    "language_info": {
      "codemirror_mode": {
        "name": "ipython",
        "version": 3
      },
      "file_extension": ".py",
      "mimetype": "text/x-python",
      "name": "python",
      "nbconvert_exporter": "python",
      "pygments_lexer": "ipython3",
      "version": "3.9.7"
    },
    "latex_envs": {
      "LaTeX_envs_menu_present": true,
      "autoclose": false,
      "autocomplete": true,
      "bibliofile": "biblio.bib",
      "cite_by": "apalike",
      "current_citInitial": 1,
      "eqLabelWithNumbers": true,
      "eqNumInitial": 1,
      "hotkeys": {
        "equation": "Ctrl-E",
        "itemize": "Ctrl-I"
      },
      "labels_anchors": false,
      "latex_user_defs": false,
      "report_style_numbering": false,
      "user_envs_cfg": false
    }
  },
  "nbformat": 4,
  "nbformat_minor": 5
}